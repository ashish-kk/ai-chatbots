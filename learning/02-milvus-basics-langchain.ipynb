{
 "cells": [
  {
   "cell_type": "markdown",
   "id": "a157d872-37b6-468e-8656-1774c201962e",
   "metadata": {},
   "source": [
    "# Working with Milvus and LangChain"
   ]
  },
  {
   "cell_type": "code",
   "execution_count": 19,
   "id": "ba9e36a5-ec0d-4079-9a28-9bfed0fc87cd",
   "metadata": {},
   "outputs": [],
   "source": [
    "## Let's go to work with LangChain and Milvus\n",
    "\n",
    "### Setup LangChain, Milvus, and Embeddings imports"
   ]
  },
  {
   "cell_type": "code",
   "execution_count": 21,
   "id": "a132c663-8954-4b85-ab6f-d7929b71a02a",
   "metadata": {},
   "outputs": [],
   "source": [
    "from langchain.embeddings.sentence_transformer import SentenceTransformerEmbeddings\n",
    "from langchain_community.vectorstores import Milvus\n",
    "from langchain.text_splitter import CharacterTextSplitter\n",
    "from langchain_community.document_loaders import TextLoader\n"
   ]
  },
  {
   "cell_type": "code",
   "execution_count": 45,
   "id": "70c52a41-e3fc-4c53-ac37-e49d9ed1352d",
   "metadata": {},
   "outputs": [],
   "source": [
    "# Load something simple and split it \n",
    "\n",
    "loader = TextLoader('state_of_the_union.txt')\n",
    "documents = loader.load()\n",
    "\n",
    "text_splitter = CharacterTextSplitter(chunk_size=100, chunk_overlap=20)\n",
    "docs = text_splitter.split_documents(documents)"
   ]
  },
  {
   "cell_type": "code",
   "execution_count": 40,
   "id": "9992f40d-986f-4c47-864c-9bece20311e7",
   "metadata": {},
   "outputs": [],
   "source": [
    "# print(f'{docs}')"
   ]
  },
  {
   "cell_type": "code",
   "execution_count": 46,
   "id": "70074627-0f97-4cfb-8abb-85a8a1f2f034",
   "metadata": {},
   "outputs": [],
   "source": [
    "# Generate embeddings with your favorite library (First time this will download model if need be)\n",
    "\n",
    "embeddings = SentenceTransformerEmbeddings()"
   ]
  },
  {
   "cell_type": "code",
   "execution_count": 51,
   "id": "1d0d465e-67d1-434d-8591-571b0bb53a7f",
   "metadata": {},
   "outputs": [],
   "source": [
    "# Connect and Embed\n",
    "vector_db = Milvus.from_documents(\n",
    "    docs,\n",
    "    embeddings,\n",
    "    collection_name=\"state_of_union_01\",\n",
    "    connection_args={\"host\": \"0.0.0.0\", \"port\": \"19530\"},\n",
    ")\n"
   ]
  },
  {
   "cell_type": "code",
   "execution_count": 58,
   "id": "38a37aea-01ba-485b-b0a9-aa0eb928ff42",
   "metadata": {},
   "outputs": [],
   "source": [
    "## Explore your embeddings\n",
    "\n",
    "# print(vector_db._collection.count()) #     collection_properties)    #collection_properties()) #   _collection.count())\n",
    "query = \"What is this document about?\"\n",
    "\n",
    "docs = vector_db.similarity_search(query)\n",
    "\n",
    "# print(f\"{print(docs[1].page_content)}\")"
   ]
  },
  {
   "cell_type": "code",
   "execution_count": 60,
   "id": "d4712d0b-680a-476a-ba16-09aab7dc67f1",
   "metadata": {},
   "outputs": [],
   "source": [
    "# Setup a LangChain Retriever and Chain (assumes ollama locallly running mistral)"
   ]
  },
  {
   "cell_type": "code",
   "execution_count": 62,
   "id": "5776bf89-d6f2-49e9-805b-e4c967ae7562",
   "metadata": {},
   "outputs": [],
   "source": [
    "#### Model \n",
    "\n",
    "# OLLAMA_BASE_URL = os.getenv(\"OLLAMA_BASE_URL\", cfg.OLLAMA_BASE_URL)\n",
    "# OLLAMA_MODEL = \"mistral\"\n",
    "\n",
    "from langchain_community.chat_models import ChatOllama\n",
    "\n",
    "model = ChatOllama(\n",
    "    model='mistral',\n",
    "    base_url='http://localhost:11434',\n",
    ")\n"
   ]
  },
  {
   "cell_type": "code",
   "execution_count": 65,
   "id": "3dee0bec-fc86-4bd2-9cbd-c876e8b49b08",
   "metadata": {},
   "outputs": [],
   "source": [
    "### Prompt\n",
    "\n",
    "from langchain.prompts import ChatPromptTemplate\n",
    "\n",
    "template = \"\"\"Answer the question giving priority to the following context if it is relevant.\n",
    "    If what follows does not answer the question silently ignore the following context and answer using your own knowledge:\n",
    "\n",
    "    {context}\n",
    "\n",
    "    Question: {question}\n",
    "    \"\"\"\n",
    "prompt = ChatPromptTemplate.from_template(template)"
   ]
  },
  {
   "cell_type": "code",
   "execution_count": 69,
   "id": "04378493-5396-4527-80db-bfb10f2e5c4b",
   "metadata": {},
   "outputs": [],
   "source": [
    "### Optional (Output Parser)\n",
    "\n",
    "from langchain.schema import StrOutputParser\n",
    "\n",
    "output_parser = StrOutputParser()"
   ]
  },
  {
   "cell_type": "code",
   "execution_count": 71,
   "id": "a00004f2-443b-4fa5-92be-9394b27faf8c",
   "metadata": {},
   "outputs": [],
   "source": [
    "# Now connect LangChain to Milvus\n",
    "\n",
    "vector_db = Milvus.from_documents(\n",
    "    docs,\n",
    "    embeddings,\n",
    "    collection_name='state_of_union_0',\n",
    "    connection_args={'host': '0.0.0.0', 'port': '19530'},\n",
    ")\n"
   ]
  },
  {
   "cell_type": "code",
   "execution_count": 72,
   "id": "6d08c1c8-e256-47b4-a94a-b90efc30a55c",
   "metadata": {},
   "outputs": [
    {
     "ename": "NameError",
     "evalue": "name 'format_docs' is not defined",
     "output_type": "error",
     "traceback": [
      "\u001b[0;31m---------------------------------------------------------------------------\u001b[0m",
      "\u001b[0;31mNameError\u001b[0m                                 Traceback (most recent call last)",
      "Cell \u001b[0;32mIn[72], line 7\u001b[0m\n\u001b[1;32m      1\u001b[0m \u001b[38;5;66;03m### Retriever (ie get embeddings from Milvus)\u001b[39;00m\n\u001b[1;32m      3\u001b[0m retriever \u001b[38;5;241m=\u001b[39m vector_db\u001b[38;5;241m.\u001b[39mas_retriever() \u001b[38;5;66;03m#     docs.as_retriever()\u001b[39;00m\n\u001b[1;32m      6\u001b[0m chain \u001b[38;5;241m=\u001b[39m (\n\u001b[0;32m----> 7\u001b[0m     {\u001b[38;5;124m\"\u001b[39m\u001b[38;5;124mcontext\u001b[39m\u001b[38;5;124m\"\u001b[39m: retriever \u001b[38;5;241m|\u001b[39m \u001b[43mformat_docs\u001b[49m, \u001b[38;5;124m\"\u001b[39m\u001b[38;5;124mquestion\u001b[39m\u001b[38;5;124m\"\u001b[39m: RunnablePassthrough()}\n\u001b[1;32m      8\u001b[0m     \u001b[38;5;241m|\u001b[39m prompt\n\u001b[1;32m      9\u001b[0m     \u001b[38;5;241m|\u001b[39m model\n\u001b[1;32m     10\u001b[0m     \u001b[38;5;241m|\u001b[39m output_parser\n\u001b[1;32m     11\u001b[0m )\n",
      "\u001b[0;31mNameError\u001b[0m: name 'format_docs' is not defined"
     ]
    }
   ],
   "source": [
    "### Retriever (ie get embeddings from Milvus)\n",
    "\n",
    "retriever = vector_db.as_retriever() #     docs.as_retriever()\n",
    "\n",
    "\n",
    "chain = (\n",
    "    {\"context\": retriever | format_docs, \"question\": RunnablePassthrough()}\n",
    "    | prompt\n",
    "    | model\n",
    "    | output_parser\n",
    ")"
   ]
  }
 ],
 "metadata": {
  "kernelspec": {
   "display_name": "Python 3 (ipykernel)",
   "language": "python",
   "name": "python3"
  },
  "language_info": {
   "codemirror_mode": {
    "name": "ipython",
    "version": 3
   },
   "file_extension": ".py",
   "mimetype": "text/x-python",
   "name": "python",
   "nbconvert_exporter": "python",
   "pygments_lexer": "ipython3",
   "version": "3.10.13"
  }
 },
 "nbformat": 4,
 "nbformat_minor": 5
}
