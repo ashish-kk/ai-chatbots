{
 "cells": [
  {
   "cell_type": "markdown",
   "id": "a157d872-37b6-468e-8656-1774c201962e",
   "metadata": {},
   "source": [
    "# Working with Milvus"
   ]
  },
  {
   "cell_type": "markdown",
   "id": "8d74e481-a6bf-45d4-86df-f7cce74e9bec",
   "metadata": {
    "jp-MarkdownHeadingCollapsed": true
   },
   "source": [
    "## Assumptions\n",
    "\n",
    "- Podman (or Docker), make sure you have resourced it well enough (8GB memory?)\n",
    "- A configured venv (you will be working locally) "
   ]
  },
  {
   "cell_type": "code",
   "execution_count": null,
   "id": "fd57747e-15ce-4291-998e-84c8328cc733",
   "metadata": {},
   "outputs": [],
   "source": []
  },
  {
   "cell_type": "markdown",
   "id": "8cd6c41b-2c15-4c7f-8d33-22927692b466",
   "metadata": {},
   "source": [
    "# Bring up your Milvus database with podman or docker compose (Tested with Podman 5)\n",
    "\n",
    "> You can omit the `-d` for detailed logging or just use `podman logs <container-name>"
   ]
  },
  {
   "cell_type": "code",
   "execution_count": 4,
   "id": "d486a2a7-a885-486a-91a3-7d21cace2f7c",
   "metadata": {
    "scrolled": true
   },
   "outputs": [
    {
     "name": "stdout",
     "output_type": "stream",
     "text": [
      "\u001b[4m>>>> Executing external compose provider \"/usr/local/bin/docker-compose\". Please refer to the documentation for details. <<<<\n",
      "\n",
      "\u001b[0m\u001b[1A\u001b[1B\u001b[0G\u001b[?25l[+] Running 4/0\n",
      " \u001b[32m✔\u001b[0m Container chatbots           \u001b[32mRunning\u001b[0m                                    \u001b[34m0.0s \u001b[0m\n",
      " \u001b[32m✔\u001b[0m Container milvus-etcd        \u001b[32mRunning\u001b[0m                                    \u001b[34m0.0s \u001b[0m\n",
      " \u001b[32m✔\u001b[0m Container milvus-minio       \u001b[32mRunning\u001b[0m                                    \u001b[34m0.0s \u001b[0m\n",
      " \u001b[32m✔\u001b[0m Container milvus-standalone  \u001b[32mRunning\u001b[0m                                    \u001b[34m0.0s \u001b[0m\n",
      "\u001b[?25h"
     ]
    }
   ],
   "source": [
    "!podman compose -f Container-compose.yml up -d"
   ]
  },
  {
   "cell_type": "markdown",
   "id": "f4599bfd-0be9-45c6-906b-01cdc920f2af",
   "metadata": {},
   "source": [
    "## Establish basic connection to Milvus\n",
    "\n",
    "Milvus has up to 64 databases\n",
    "Collections live in databases\n",
    "Your Milvus database should be available on localhost:19530\n",
    "\n",
    "- [Basic Milvus](https://milvus.io/docs/manage_databases.md)"
   ]
  },
  {
   "cell_type": "code",
   "execution_count": 14,
   "id": "e1c8eb71-2c9d-4e84-8ea2-23e25b581b07",
   "metadata": {},
   "outputs": [
    {
     "name": "stdout",
     "output_type": "stream",
     "text": [
      "['default', 'book']\n"
     ]
    }
   ],
   "source": [
    "from pymilvus import connections, db\n",
    "\n",
    "conn = connections.connect(\n",
    "    host=\"127.0.0.1\",\n",
    "    port=\"19530\",\n",
    "    db_name=\"book\"\n",
    ")\n",
    "\n",
    "databases = db.list_database()\n",
    "print(f'{databases}') "
   ]
  },
  {
   "cell_type": "markdown",
   "id": "9f49706d-71c4-46bc-ace0-b69fbe80df1d",
   "metadata": {},
   "source": [
    "## Change database"
   ]
  },
  {
   "cell_type": "code",
   "execution_count": 18,
   "id": "5eef76cd-56cb-456d-b082-0ac7846b2a3c",
   "metadata": {},
   "outputs": [],
   "source": [
    "database = db.using_database(\"default\")"
   ]
  }
 ],
 "metadata": {
  "kernelspec": {
   "display_name": "Python 3 (ipykernel)",
   "language": "python",
   "name": "python3"
  },
  "language_info": {
   "codemirror_mode": {
    "name": "ipython",
    "version": 3
   },
   "file_extension": ".py",
   "mimetype": "text/x-python",
   "name": "python",
   "nbconvert_exporter": "python",
   "pygments_lexer": "ipython3",
   "version": "3.10.13"
  }
 },
 "nbformat": 4,
 "nbformat_minor": 5
}
